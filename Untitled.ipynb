{
 "cells": [
  {
   "cell_type": "code",
   "execution_count": 1,
   "id": "nasty-horizon",
   "metadata": {},
   "outputs": [
    {
     "name": "stdout",
     "output_type": "stream",
     "text": [
      "Requirement already satisfied: torch in /home/s1910407/target-dir/lib/python3.6/site-packages (1.7.1)\n",
      "Requirement already satisfied: typing_extensions in /home/s1910407/target-dir/lib/python3.6/site-packages (from torch) (3.7.4.3)\n",
      "Requirement already satisfied: numpy in /home/s1910407/target-dir/lib/python3.6/site-packages (from torch) (1.19.5)\n",
      "Requirement already satisfied: dataclasses in /home/s1910407/target-dir/lib/python3.6/site-packages (from torch) (0.7)\n",
      "Requirement already satisfied: transformers in /home/s1910407/target-dir/lib/python3.6/site-packages (4.3.3)\n",
      "Requirement already satisfied: regex!=2019.12.17 in /home/s1910407/target-dir/lib/python3.6/site-packages (from transformers) (2020.11.13)\n",
      "Requirement already satisfied: tokenizers<0.11,>=0.10.1 in /home/s1910407/target-dir/lib/python3.6/site-packages (from transformers) (0.10.1)\n",
      "Requirement already satisfied: importlib-metadata in /home/s1910407/target-dir/lib/python3.6/site-packages (from transformers) (2.0.0)\n",
      "Requirement already satisfied: requests in /home/s1910407/target-dir/lib/python3.6/site-packages (from transformers) (2.25.1)\n",
      "Requirement already satisfied: dataclasses in /home/s1910407/target-dir/lib/python3.6/site-packages (from transformers) (0.7)\n",
      "Requirement already satisfied: sacremoses in /home/s1910407/target-dir/lib/python3.6/site-packages (from transformers) (0.0.43)\n",
      "Requirement already satisfied: filelock in /home/s1910407/target-dir/lib/python3.6/site-packages (from transformers) (3.0.12)\n",
      "Requirement already satisfied: numpy>=1.17 in /home/s1910407/target-dir/lib/python3.6/site-packages (from transformers) (1.19.5)\n",
      "Requirement already satisfied: tqdm>=4.27 in /home/s1910407/target-dir/lib/python3.6/site-packages (from transformers) (4.56.0)\n",
      "Requirement already satisfied: packaging in /home/s1910407/target-dir/lib/python3.6/site-packages (from transformers) (20.9)\n",
      "Requirement already satisfied: zipp>=0.5 in /home/s1910407/target-dir/lib/python3.6/site-packages (from importlib-metadata->transformers) (3.4.0)\n",
      "Requirement already satisfied: pyparsing>=2.0.2 in /home/s1910407/target-dir/lib/python3.6/site-packages (from packaging->transformers) (2.4.7)\n",
      "Requirement already satisfied: chardet<5,>=3.0.2 in /home/s1910407/target-dir/lib/python3.6/site-packages (from requests->transformers) (4.0.0)\n",
      "Requirement already satisfied: idna<3,>=2.5 in /home/s1910407/target-dir/lib/python3.6/site-packages (from requests->transformers) (2.10)\n",
      "Requirement already satisfied: certifi>=2017.4.17 in /home/s1910407/target-dir/lib/python3.6/site-packages (from requests->transformers) (2020.12.5)\n",
      "Requirement already satisfied: urllib3<1.27,>=1.21.1 in /home/s1910407/target-dir/lib/python3.6/site-packages (from requests->transformers) (1.26.3)\n",
      "Requirement already satisfied: joblib in /home/s1910407/target-dir/lib/python3.6/site-packages (from sacremoses->transformers) (1.0.1)\n",
      "Requirement already satisfied: six in /home/s1910407/target-dir/lib/python3.6/site-packages (from sacremoses->transformers) (1.15.0)\n",
      "Requirement already satisfied: click in /home/s1910407/target-dir/lib/python3.6/site-packages (from sacremoses->transformers) (7.1.2)\n"
     ]
    }
   ],
   "source": [
    "!pip install torch\n",
    "!pip install transformers"
   ]
  },
  {
   "cell_type": "code",
   "execution_count": null,
   "id": "curious-pioneer",
   "metadata": {},
   "outputs": [],
   "source": [
    "import torch\n",
    "from transformers import RobertaTokenizer, RobertaConfig, RobertaModel"
   ]
  },
  {
   "cell_type": "code",
   "execution_count": null,
   "id": "expected-rocket",
   "metadata": {},
   "outputs": [],
   "source": [
    "device = torch.device(\"cuda\" if torch.cuda.is_available() else \"cpu\")\n",
    "tokenizer = RobertaTokenizer.from_pretrained(\"microsoft/codebert-base\")\n",
    "model = RobertaModel.from_pretrained(\"microsoft/codebert-base\")"
   ]
  }
 ],
 "metadata": {
  "kernelspec": {
   "display_name": "Python 3",
   "language": "python",
   "name": "python3"
  },
  "language_info": {
   "codemirror_mode": {
    "name": "ipython",
    "version": 3
   },
   "file_extension": ".py",
   "mimetype": "text/x-python",
   "name": "python",
   "nbconvert_exporter": "python",
   "pygments_lexer": "ipython3",
   "version": "3.6.12"
  }
 },
 "nbformat": 4,
 "nbformat_minor": 5
}
